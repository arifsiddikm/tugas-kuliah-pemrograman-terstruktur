{
  "nbformat": 4,
  "nbformat_minor": 0,
  "metadata": {
    "colab": {
      "provenance": []
    },
    "kernelspec": {
      "name": "python3",
      "display_name": "Python 3"
    },
    "language_info": {
      "name": "python"
    }
  },
  "cells": [
    {
      "cell_type": "markdown",
      "source": [
        "1. Pada hari raya idul fitri, Pak Ganes ingin memberikan uang ampao kepada keponakannya. Dia memiliki uang Rp  1,100,000  yang akan dibagikan ke  10  keponakannya. Buatlah program python untuk memudahkan Pak Ganes dalam membagi uang ampao agar sama rata kepada keponakannya !\n",
        "\n",
        "\n"
      ],
      "metadata": {
        "id": "945n3RH-HXaD"
      }
    },
    {
      "cell_type": "code",
      "source": [
        "uangpakganes = 1100000;\n",
        "jumlahponakan = 10;\n",
        "perkiraanampao = int(uangpakganes / jumlahponakan);\n",
        "print(\"Jumlah ampao yang dibagikan kepada masing masing ponakannya pak Ganes adalah Rp.\",perkiraanampao)"
      ],
      "metadata": {
        "id": "M7rf3E_NIIAS",
        "colab": {
          "base_uri": "https://localhost:8080/"
        },
        "outputId": "5ea1d54c-04ba-4ceb-aa60-ea8ec9173d1a"
      },
      "execution_count": null,
      "outputs": [
        {
          "output_type": "stream",
          "name": "stdout",
          "text": [
            "Jumlah ampao yang dibagikan kepada masing masing ponakannya pak Ganes adalah Rp. 110000\n"
          ]
        }
      ]
    },
    {
      "cell_type": "markdown",
      "source": [
        "2. Kevin ingin membeli sebuah Laptop seharga **Rp 15 juta**. Namun, uang yag dia punya hanya **Rp 8 juta**. Dia teringat bahwa **7 tahun** lalu dia pernah menabung di Bank A dan Bank B dengan saldo yang sama yaitu **Rp 3 juta** dan suku bunga di Bank A yaitu **6% per tahun** dan suku bunga di Bank B yaitu **5% per tahun**. Kedua Bank sama memberikan **suku bunga majemuk**. Jika selama 7 tahun itu Kevin tidak pernah melakukan penarikan maupun pemasukan, Berapakah total uang Kevin sekarang ? Apakah uang Kevin sudah cukup untuk membeli Laptop ?"
      ],
      "metadata": {
        "id": "8OtyKrg9JVFk"
      }
    },
    {
      "cell_type": "code",
      "source": [
        "hargalaptop = 15000000\n",
        "uangkevinpertama = 8000000\n",
        "\n",
        "saldobankA = 3000000\n",
        "saldobankB = 3000000\n",
        "\n",
        "sukubungabankA = saldobankA * 0.06 * (30/360)\n",
        "sukubungabankA7tahun = sukubungabankA * (7*12);\n",
        "sukubungabankB = saldobankB * 0.05 * (30/360)\n",
        "sukubungabankB7tahun = sukubungabankB * (7*12);\n",
        "\n",
        "print(\"Jumlah didapatkan dari suku bunga Bank A selama 7 Tahun adalah Rp.\",sukubungabankA7tahun)\n",
        "print(\"Jumlah didapatkan dari suku bunga Bank B selama 7 Tahun adalah Rp.\",sukubungabankB7tahun)\n",
        "\n",
        "uangkevinkedua = uangkevinpertama + saldobankA + saldobankB + sukubungabankA7tahun + sukubungabankB7tahun;\n",
        "print(\"Uang Kevin saat ini ditambah dengan Tabungan dan Bunga didapat selama 7 Tahun adalah sebesar Rp.\",uangkevinkedua)\n",
        "\n",
        "if(uangkevinkedua>=15000000):\n",
        "  print(\"Saat ini Kevin sudah bisa membeli Laptop seharga 15Juta karena Kevin sudah memiliki cukup Uang 😊.\")\n",
        "else:\n",
        "  print(\"Saat ini Kevin belum bisa membeli Laptop seharga 15Juta karena Kevin belum memiliki cukup Uang 😭.\")"
      ],
      "metadata": {
        "colab": {
          "base_uri": "https://localhost:8080/"
        },
        "id": "UgG8GWfMLDtm",
        "outputId": "04ec0234-9c62-43f6-d747-387aef4fd244"
      },
      "execution_count": null,
      "outputs": [
        {
          "output_type": "stream",
          "name": "stdout",
          "text": [
            "Jumlah didapatkan dari suku bunga Bank A selama 7 Tahun adalah Rp. 1260000.0\n",
            "Jumlah didapatkan dari suku bunga Bank B selama 7 Tahun adalah Rp. 1050000.0\n",
            "Uang Kevin saat ini ditambah dengan Tabungan dan Bunga didapat selama 7 Tahun adalah sebesar Rp. 16310000.0\n",
            "Saat ini Kevin sudah bisa membeli Laptop seharga 15Juta karena Kevin sudah memiliki cukup Uang 😊.\n"
          ]
        }
      ]
    },
    {
      "cell_type": "markdown",
      "source": [
        "3. Hari Ulang Tahun kamu tinggal seminggu lagi. Kamu berencana mengundang teman sekelas untuk hadir dalam acara ulang tahunmu. Karena pandemi Covid-19 kamu kesulitan mendapatkan data nama teman sekelasmu. Akhirnya kamu berinisiatif untuk mengambil data nama teman sekelas melalui web sekolah. Kamu mendapatkan nama-nama tersebut yang disimpan dalam list berikut :"
      ],
      "metadata": {
        "id": "9hiXC2wdKxEz"
      }
    },
    {
      "cell_type": "code",
      "source": [
        "daftar = [\"Arif\",\"Sahroni\", \"Iskandar\", \"Yodi\", \"Isnan\", \"Zaenal\", \"Ali\", \"Azmil\", \"Waritsul\", \n",
        "          \"Rasyid\",\"Admin\", \"Bagus\", \"Asep\", \"Adika\", \"Admin\", \"Firzatulloh\", \"Kevin\", \"Arif RP\", \"Alvin\", \"Abu Ahmadi\", \"Masranti\"]\n",
        "for teman in daftar:\n",
        "  if(teman!=\"Arif\" and teman!=\"Admin\"):\n",
        "    print(\"Hai\", teman, \"👋🏻, Kamu aku undang dalam ulang tahunku😇.\")"
      ],
      "metadata": {
        "colab": {
          "base_uri": "https://localhost:8080/"
        },
        "id": "WFQ6-RwAJBNr",
        "outputId": "fed55540-38ea-4919-c1e4-9016df1f7a53"
      },
      "execution_count": 22,
      "outputs": [
        {
          "output_type": "stream",
          "name": "stdout",
          "text": [
            "Hai Sahroni 👋🏻, Kamu aku undang dalam ulang tahunku😇.\n",
            "Hai Iskandar 👋🏻, Kamu aku undang dalam ulang tahunku😇.\n",
            "Hai Yodi 👋🏻, Kamu aku undang dalam ulang tahunku😇.\n",
            "Hai Isnan 👋🏻, Kamu aku undang dalam ulang tahunku😇.\n",
            "Hai Zaenal 👋🏻, Kamu aku undang dalam ulang tahunku😇.\n",
            "Hai Ali 👋🏻, Kamu aku undang dalam ulang tahunku😇.\n",
            "Hai Azmil 👋🏻, Kamu aku undang dalam ulang tahunku😇.\n",
            "Hai Waritsul 👋🏻, Kamu aku undang dalam ulang tahunku😇.\n",
            "Hai Rasyid 👋🏻, Kamu aku undang dalam ulang tahunku😇.\n",
            "Hai Bagus 👋🏻, Kamu aku undang dalam ulang tahunku😇.\n",
            "Hai Asep 👋🏻, Kamu aku undang dalam ulang tahunku😇.\n",
            "Hai Adika 👋🏻, Kamu aku undang dalam ulang tahunku😇.\n",
            "Hai Firzatulloh 👋🏻, Kamu aku undang dalam ulang tahunku😇.\n",
            "Hai Kevin 👋🏻, Kamu aku undang dalam ulang tahunku😇.\n",
            "Hai Arif RP 👋🏻, Kamu aku undang dalam ulang tahunku😇.\n",
            "Hai Alvin 👋🏻, Kamu aku undang dalam ulang tahunku😇.\n",
            "Hai Abu Ahmadi 👋🏻, Kamu aku undang dalam ulang tahunku😇.\n",
            "Hai Masranti 👋🏻, Kamu aku undang dalam ulang tahunku😇.\n"
          ]
        }
      ]
    },
    {
      "cell_type": "markdown",
      "source": [
        "Buatlah program python untuk membantu dirimu sendiri agar kamu bisa menyampaikan undangan ke teman-teman kecuali pada Admin dan Dirimu sendiri. Gunakan Looping dan Continue, kemudian cetaklah : Hai [Nama Teman Kamu], kamu aku undang dalang ulang tahunku. cetaklah selain nama Admin dan Nama kamu."
      ],
      "metadata": {
        "id": "mVqnQzd3K55K"
      }
    },
    {
      "cell_type": "markdown",
      "source": [
        "4. Pada suatu kesempatan Arif diminta Bu Guru untuk menyebutkan bilangan prima yang dimulai dari angka 1 sampai dengan angka 50. Bantulah Arif dengan membuatkan program tersebut"
      ],
      "metadata": {
        "id": "8M6qbM50LVIR"
      }
    },
    {
      "cell_type": "code",
      "source": [
        "angka = 1;\n",
        "while angka <= 50:\n",
        "  # if(angka % 2 == 1):\n",
        "  #   continue\n",
        "    print(\"Arif berkata :\",angka)\n",
        "    angka += 1"
      ],
      "metadata": {
        "id": "HHm-OYT8JcG-",
        "colab": {
          "base_uri": "https://localhost:8080/"
        },
        "outputId": "52ab100a-c521-4b53-bc81-4677c7f7a81b"
      },
      "execution_count": 18,
      "outputs": [
        {
          "output_type": "stream",
          "name": "stdout",
          "text": [
            "Arif berkata : 1\n",
            "Arif berkata : 2\n",
            "Arif berkata : 3\n",
            "Arif berkata : 4\n",
            "Arif berkata : 5\n",
            "Arif berkata : 6\n",
            "Arif berkata : 7\n",
            "Arif berkata : 8\n",
            "Arif berkata : 9\n",
            "Arif berkata : 10\n",
            "Arif berkata : 11\n",
            "Arif berkata : 12\n",
            "Arif berkata : 13\n",
            "Arif berkata : 14\n",
            "Arif berkata : 15\n",
            "Arif berkata : 16\n",
            "Arif berkata : 17\n",
            "Arif berkata : 18\n",
            "Arif berkata : 19\n",
            "Arif berkata : 20\n",
            "Arif berkata : 21\n",
            "Arif berkata : 22\n",
            "Arif berkata : 23\n",
            "Arif berkata : 24\n",
            "Arif berkata : 25\n",
            "Arif berkata : 26\n",
            "Arif berkata : 27\n",
            "Arif berkata : 28\n",
            "Arif berkata : 29\n",
            "Arif berkata : 30\n",
            "Arif berkata : 31\n",
            "Arif berkata : 32\n",
            "Arif berkata : 33\n",
            "Arif berkata : 34\n",
            "Arif berkata : 35\n",
            "Arif berkata : 36\n",
            "Arif berkata : 37\n",
            "Arif berkata : 38\n",
            "Arif berkata : 39\n",
            "Arif berkata : 40\n",
            "Arif berkata : 41\n",
            "Arif berkata : 42\n",
            "Arif berkata : 43\n",
            "Arif berkata : 44\n",
            "Arif berkata : 45\n",
            "Arif berkata : 46\n",
            "Arif berkata : 47\n",
            "Arif berkata : 48\n",
            "Arif berkata : 49\n",
            "Arif berkata : 50\n"
          ]
        }
      ]
    },
    {
      "cell_type": "markdown",
      "source": [
        "5. Menghitung\n",
        "Indeks Massa Tubuh (IMT) digunakan untuk menentukan kategori berat badan dengan membandingkan berat dan tinggi badan. Perhitungan IMT dapat dilakukan dengan kalkulator berat badan ideal yaitu : \\\\\n",
        "$\\text{IMT} = \\dfrac{\\text{Berat Badan}}{\\left(\\text{Tinggi Badan}\\right)^2}$ \\\\\n",
        "Dimana **Berat Badan** dalam **(Kg)** dan **Tinggi Badan** dalam **(meter)**. Untuk populasi Asia, termasuk Indonesia, pengelompokan IMT adalah sebagai berikut : \\\\\n",
        "* **Obesitas** = $\\text{IMT} \\geq 25$\n",
        "* **Overweight** = $23 \\leq \\text{IMT} < 25$\n",
        "* **Normal** = $18,5 \\leq \\text{IMT} < 23$\n",
        "* **Underweight** = $\\text{IMT} < 18,5$ \\\\\n",
        "\n",
        "\n",
        "---\n",
        "\n",
        "Jika Iskandar memiliki Tinggi Badan $165 \\text{ cm}$ dan Berat Badan $60 \\text{ Kg}$. Termasuk Golongan manakan Berat Badan Iskandar?. Buatlah fungsi Python dengan nama **`IMT`** dan parameter fungsi yaitu **`berat`** dalam **Kg** dan **`tinggi`** dalam **cm** untuk menghitung IMT seperti formula di atas. kemudian gunakan fungsi **`IMT`** untuk menentukan kategori dari Berat Badan Iskandar !"
      ],
      "metadata": {
        "id": "B7R1XI1SXht0"
      }
    },
    {
      "cell_type": "code",
      "source": [
        "syarat_nilai_lulus_uts = 80;\n",
        "\n",
        "beratbadan = int(input(\"Masukkan Berat Badan Kamu : \"));\n",
        "tinggibadan = int(input(\"Masukkan Tinggi Badan Kamu : \"));\n",
        "tinggibadan = tinggibadan/100\n",
        "imt = round(beratbadan / (tinggibadan**2))\n",
        "\n",
        "print('Nilai BMI Iskandar adalah :',imt)\n",
        "if imt < 18.5:\n",
        "\tprint('Berat Badan Iskandar Kurang ')\n",
        "elif imt > 18.5 and imt < 24.9:\n",
        "\tprint('Berat Badan Iskandar Normal')\n",
        "elif imt > 25 and imt < 29.9:\n",
        "\tprint('Iskandar Kelebihan Berat Badan')\n",
        "elif imt > 30:\n",
        "\tprint('Iskandar Obesitas')"
      ],
      "metadata": {
        "colab": {
          "base_uri": "https://localhost:8080/"
        },
        "id": "hDwr285MJc5t",
        "outputId": "ebd971a0-c8f9-4ee2-fba2-38c67cfa724b"
      },
      "execution_count": null,
      "outputs": [
        {
          "output_type": "stream",
          "name": "stdout",
          "text": [
            "Masukkan Berat Badan Kamu : 60\n",
            "Masukkan Tinggi Badan Kamu : 165\n",
            "Nilai BMI Iskandar adalah : 22\n",
            "Berat Badan Iskandar Normal\n"
          ]
        }
      ]
    }
  ]
}